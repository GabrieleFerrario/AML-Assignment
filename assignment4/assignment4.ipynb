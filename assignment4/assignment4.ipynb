{
 "cells": [
  {
   "cell_type": "markdown",
   "metadata": {
    "id": "4AVVjuhcyJGL"
   },
   "source": [
    "# Ferrario Gabriele 817518 Assignment 4\n",
    "___\n"
   ]
  },
  {
   "cell_type": "code",
   "execution_count": 1,
   "metadata": {
    "id": "IbM8_BT_xMvm"
   },
   "outputs": [],
   "source": [
    "import numpy as np\n",
    "from tensorflow.keras.applications.vgg16 import preprocess_input\n",
    "from tensorflow.keras.applications.vgg16 import VGG16\n",
    "from tensorflow.keras.models import Model\n",
    "from tensorflow.keras.preprocessing import image\n",
    "\n",
    "import os\n",
    "import pandas as pd\n",
    "from sklearn import svm\n",
    "from sklearn.linear_model import LogisticRegression\n",
    "from sklearn.metrics import accuracy_score"
   ]
  },
  {
   "cell_type": "code",
   "execution_count": 2,
   "metadata": {
    "colab": {
     "base_uri": "https://localhost:8080/"
    },
    "id": "cDHx4KKubcAT",
    "outputId": "99d8c693-3df2-4dfc-b542-0cb0959bc573"
   },
   "outputs": [
    {
     "name": "stdout",
     "output_type": "stream",
     "text": [
      "Mounted at /content/gdrive\n"
     ]
    }
   ],
   "source": [
    "from google.colab import drive\n",
    "drive.mount('/content/gdrive', force_remount=True)\n",
    "root_dir = \"/content/gdrive/My Drive/\"\n",
    "base_dir = root_dir + 'Data/'"
   ]
  },
  {
   "cell_type": "markdown",
   "metadata": {
    "id": "BvrxbF59yfBv"
   },
   "source": [
    "**Data Loading and Preparation**"
   ]
  },
  {
   "cell_type": "code",
   "execution_count": 3,
   "metadata": {
    "id": "VsVMuBjVaGj9"
   },
   "outputs": [],
   "source": [
    "def image_preprocessing(target,directory):\n",
    "    list_img = np.empty((0, 224, 224, 3))\n",
    "    list_target = np.array([])\n",
    "    path = directory+\"/\"+target\n",
    "    for filename in os.listdir(path):\n",
    "\n",
    "        img = image.load_img(os.path.join(path, filename), target_size=(224, 224))\n",
    "        x = image.img_to_array(img)\n",
    "        x = np.expand_dims(x, axis=0)\n",
    "        x = preprocess_input(x)\n",
    "        list_img = np.append(list_img, x, axis=0)\n",
    "\n",
    "        list_target = np.append(list_target, target)\n",
    "    \n",
    "    return list_img, list_target"
   ]
  },
  {
   "cell_type": "code",
   "execution_count": 4,
   "metadata": {
    "id": "jz3Bu7m5JYRs"
   },
   "outputs": [],
   "source": [
    "def image_for_training():\n",
    "  directory = base_dir+\"./train\"\n",
    "  list_img1, list_target1 = image_preprocessing(\"cars\", directory)\n",
    "  list_img2, list_target2 = image_preprocessing(\"planes\", directory)\n",
    "  img_finale =np.append(list_img1, list_img2, axis=0)\n",
    "  print(\"shape image for training: \", img_finale.shape)\n",
    "  target_finale=np.append(list_target1, list_target2)\n",
    "  print(\"shape targets:\", target_finale.shape)\n",
    "\n",
    "  return img_finale, target_finale"
   ]
  },
  {
   "cell_type": "markdown",
   "metadata": {
    "id": "QlaitDuDynHQ"
   },
   "source": [
    "**Model definition**"
   ]
  },
  {
   "cell_type": "code",
   "execution_count": 5,
   "metadata": {
    "id": "hhUaiz9dp4N3"
   },
   "outputs": [],
   "source": [
    "model = VGG16(weights='imagenet') "
   ]
  },
  {
   "cell_type": "code",
   "execution_count": 6,
   "metadata": {
    "colab": {
     "base_uri": "https://localhost:8080/"
    },
    "id": "64lx34Xnp_jU",
    "outputId": "63dbc58a-e676-4dcb-a2ec-21372b1b5547"
   },
   "outputs": [
    {
     "name": "stdout",
     "output_type": "stream",
     "text": [
      "Model: \"vgg16\"\n",
      "_________________________________________________________________\n",
      "Layer (type)                 Output Shape              Param #   \n",
      "=================================================================\n",
      "input_1 (InputLayer)         [(None, 224, 224, 3)]     0         \n",
      "_________________________________________________________________\n",
      "block1_conv1 (Conv2D)        (None, 224, 224, 64)      1792      \n",
      "_________________________________________________________________\n",
      "block1_conv2 (Conv2D)        (None, 224, 224, 64)      36928     \n",
      "_________________________________________________________________\n",
      "block1_pool (MaxPooling2D)   (None, 112, 112, 64)      0         \n",
      "_________________________________________________________________\n",
      "block2_conv1 (Conv2D)        (None, 112, 112, 128)     73856     \n",
      "_________________________________________________________________\n",
      "block2_conv2 (Conv2D)        (None, 112, 112, 128)     147584    \n",
      "_________________________________________________________________\n",
      "block2_pool (MaxPooling2D)   (None, 56, 56, 128)       0         \n",
      "_________________________________________________________________\n",
      "block3_conv1 (Conv2D)        (None, 56, 56, 256)       295168    \n",
      "_________________________________________________________________\n",
      "block3_conv2 (Conv2D)        (None, 56, 56, 256)       590080    \n",
      "_________________________________________________________________\n",
      "block3_conv3 (Conv2D)        (None, 56, 56, 256)       590080    \n",
      "_________________________________________________________________\n",
      "block3_pool (MaxPooling2D)   (None, 28, 28, 256)       0         \n",
      "_________________________________________________________________\n",
      "block4_conv1 (Conv2D)        (None, 28, 28, 512)       1180160   \n",
      "_________________________________________________________________\n",
      "block4_conv2 (Conv2D)        (None, 28, 28, 512)       2359808   \n",
      "_________________________________________________________________\n",
      "block4_conv3 (Conv2D)        (None, 28, 28, 512)       2359808   \n",
      "_________________________________________________________________\n",
      "block4_pool (MaxPooling2D)   (None, 14, 14, 512)       0         \n",
      "_________________________________________________________________\n",
      "block5_conv1 (Conv2D)        (None, 14, 14, 512)       2359808   \n",
      "_________________________________________________________________\n",
      "block5_conv2 (Conv2D)        (None, 14, 14, 512)       2359808   \n",
      "_________________________________________________________________\n",
      "block5_conv3 (Conv2D)        (None, 14, 14, 512)       2359808   \n",
      "_________________________________________________________________\n",
      "block5_pool (MaxPooling2D)   (None, 7, 7, 512)         0         \n",
      "_________________________________________________________________\n",
      "flatten (Flatten)            (None, 25088)             0         \n",
      "_________________________________________________________________\n",
      "fc1 (Dense)                  (None, 4096)              102764544 \n",
      "_________________________________________________________________\n",
      "fc2 (Dense)                  (None, 4096)              16781312  \n",
      "_________________________________________________________________\n",
      "predictions (Dense)          (None, 1000)              4097000   \n",
      "=================================================================\n",
      "Total params: 138,357,544\n",
      "Trainable params: 138,357,544\n",
      "Non-trainable params: 0\n",
      "_________________________________________________________________\n"
     ]
    }
   ],
   "source": [
    "model.summary()"
   ]
  },
  {
   "cell_type": "markdown",
   "metadata": {
    "id": "tQe7Hn8AUY4Y"
   },
   "source": [
    "**Taglio nel block3_pool**"
   ]
  },
  {
   "cell_type": "code",
   "execution_count": 7,
   "metadata": {
    "colab": {
     "base_uri": "https://localhost:8080/"
    },
    "id": "GvclJ-BXrB62",
    "outputId": "250ad05e-1eab-44b3-b23c-c93420d4b914"
   },
   "outputs": [
    {
     "name": "stdout",
     "output_type": "stream",
     "text": [
      "Model: \"model\"\n",
      "_________________________________________________________________\n",
      "Layer (type)                 Output Shape              Param #   \n",
      "=================================================================\n",
      "input_1 (InputLayer)         [(None, 224, 224, 3)]     0         \n",
      "_________________________________________________________________\n",
      "block1_conv1 (Conv2D)        (None, 224, 224, 64)      1792      \n",
      "_________________________________________________________________\n",
      "block1_conv2 (Conv2D)        (None, 224, 224, 64)      36928     \n",
      "_________________________________________________________________\n",
      "block1_pool (MaxPooling2D)   (None, 112, 112, 64)      0         \n",
      "_________________________________________________________________\n",
      "block2_conv1 (Conv2D)        (None, 112, 112, 128)     73856     \n",
      "_________________________________________________________________\n",
      "block2_conv2 (Conv2D)        (None, 112, 112, 128)     147584    \n",
      "_________________________________________________________________\n",
      "block2_pool (MaxPooling2D)   (None, 56, 56, 128)       0         \n",
      "_________________________________________________________________\n",
      "block3_conv1 (Conv2D)        (None, 56, 56, 256)       295168    \n",
      "_________________________________________________________________\n",
      "block3_conv2 (Conv2D)        (None, 56, 56, 256)       590080    \n",
      "_________________________________________________________________\n",
      "block3_conv3 (Conv2D)        (None, 56, 56, 256)       590080    \n",
      "_________________________________________________________________\n",
      "block3_pool (MaxPooling2D)   (None, 28, 28, 256)       0         \n",
      "=================================================================\n",
      "Total params: 1,735,488\n",
      "Trainable params: 1,735,488\n",
      "Non-trainable params: 0\n",
      "_________________________________________________________________\n"
     ]
    }
   ],
   "source": [
    "first_model = Model(inputs=model.input, outputs=model.get_layer('block3_pool').output)\n",
    "first_model.summary()"
   ]
  },
  {
   "cell_type": "code",
   "execution_count": 8,
   "metadata": {
    "colab": {
     "base_uri": "https://localhost:8080/"
    },
    "id": "FdaDbp5urIy4",
    "outputId": "31772c95-0b54-46be-f53b-a0e55fd60cc8"
   },
   "outputs": [
    {
     "name": "stdout",
     "output_type": "stream",
     "text": [
      "shape image for training:  (400, 224, 224, 3)\n",
      "shape targets: (400,)\n",
      "(400, 224, 224, 3)\n",
      "(400, 28, 28, 256)\n"
     ]
    }
   ],
   "source": [
    "immagini_definitive_training, target = image_for_training()\n",
    "print(immagini_definitive_training.shape)\n",
    "features = first_model.predict(immagini_definitive_training)\n",
    "\n",
    "print(features.shape)"
   ]
  },
  {
   "cell_type": "code",
   "execution_count": 9,
   "metadata": {
    "colab": {
     "base_uri": "https://localhost:8080/"
    },
    "id": "qllKaVZzWimA",
    "outputId": "de2e9c18-afca-4975-8f19-dac41e6c7be8"
   },
   "outputs": [
    {
     "data": {
      "text/plain": [
       "(400, 28, 28, 256)"
      ]
     },
     "execution_count": 9,
     "metadata": {
      "tags": []
     },
     "output_type": "execute_result"
    }
   ],
   "source": [
    "features.shape"
   ]
  },
  {
   "cell_type": "code",
   "execution_count": 10,
   "metadata": {
    "colab": {
     "base_uri": "https://localhost:8080/"
    },
    "id": "CcOUeZCEN6Fe",
    "outputId": "ff852561-817a-48d7-bbcd-69fabd556f74"
   },
   "outputs": [
    {
     "data": {
      "text/plain": [
       "(400, 200704)"
      ]
     },
     "execution_count": 10,
     "metadata": {
      "tags": []
     },
     "output_type": "execute_result"
    }
   ],
   "source": [
    "nsamples, nx, ny, nz = features.shape\n",
    "features_2d = features.reshape((nsamples,nx*ny*nz))\n",
    "features_2d.shape"
   ]
  },
  {
   "cell_type": "markdown",
   "metadata": {
    "id": "lq9to7iFy0Df"
   },
   "source": [
    "Train"
   ]
  },
  {
   "cell_type": "code",
   "execution_count": 11,
   "metadata": {
    "id": "9N9slAnUsong"
   },
   "outputs": [],
   "source": [
    "svm_1 = svm.SVC(kernel='linear', C=0.001).fit(features_2d, target)"
   ]
  },
  {
   "cell_type": "code",
   "execution_count": 12,
   "metadata": {
    "colab": {
     "base_uri": "https://localhost:8080/"
    },
    "id": "uYQpXH4yTRtL",
    "outputId": "e7b1683e-b90b-43d7-ec05-cebf05006f40"
   },
   "outputs": [
    {
     "data": {
      "text/plain": [
       "1.0"
      ]
     },
     "execution_count": 12,
     "metadata": {
      "tags": []
     },
     "output_type": "execute_result"
    }
   ],
   "source": [
    "pred = svm_1.predict(features_2d)\n",
    "\n",
    "acc1_training_svm=accuracy_score(target, pred)\n",
    "acc1_training_svm"
   ]
  },
  {
   "cell_type": "code",
   "execution_count": 13,
   "metadata": {
    "id": "euBO1UXGDwZc"
   },
   "outputs": [],
   "source": [
    "lr_1 = LogisticRegression(C=0.001).fit(features_2d, target)"
   ]
  },
  {
   "cell_type": "code",
   "execution_count": 14,
   "metadata": {
    "colab": {
     "base_uri": "https://localhost:8080/"
    },
    "id": "4INK1aQlFKv9",
    "outputId": "cf45d7da-83d1-4c2f-d949-660daec1bc00"
   },
   "outputs": [
    {
     "data": {
      "text/plain": [
       "1.0"
      ]
     },
     "execution_count": 14,
     "metadata": {
      "tags": []
     },
     "output_type": "execute_result"
    }
   ],
   "source": [
    "pred = lr_1.predict(features_2d)\n",
    "\n",
    "acc1_training_lr=accuracy_score(target, pred)\n",
    "acc1_training_lr"
   ]
  },
  {
   "cell_type": "markdown",
   "metadata": {
    "id": "8Amkmxsey3n9"
   },
   "source": [
    "Test"
   ]
  },
  {
   "cell_type": "code",
   "execution_count": 15,
   "metadata": {
    "id": "CQ8PXLNnLri1"
   },
   "outputs": [],
   "source": [
    "def image_for_test():\n",
    "  directory = base_dir+\"./test\"\n",
    "  list_img1, list_target1 = image_preprocessing(\"cars\", directory)\n",
    "  list_img2, list_target2 = image_preprocessing(\"planes\", directory)\n",
    "  img_finale =np.append(list_img1, list_img2, axis=0)\n",
    "  target_true=np.append(list_target1, list_target2)\n",
    "\n",
    "  return img_finale, target_true"
   ]
  },
  {
   "cell_type": "code",
   "execution_count": 16,
   "metadata": {
    "colab": {
     "base_uri": "https://localhost:8080/"
    },
    "id": "jIJ7sBUXth0-",
    "outputId": "41c98ae1-9deb-4b2b-990a-3a54f5fd5b55"
   },
   "outputs": [
    {
     "data": {
      "text/plain": [
       "(100, 28, 28, 256)"
      ]
     },
     "execution_count": 16,
     "metadata": {
      "tags": []
     },
     "output_type": "execute_result"
    }
   ],
   "source": [
    "immagini_definitive_test, target_true = image_for_test()\n",
    "features_test = first_model.predict(immagini_definitive_test)\n",
    "\n",
    "features_test.shape"
   ]
  },
  {
   "cell_type": "code",
   "execution_count": 17,
   "metadata": {
    "colab": {
     "base_uri": "https://localhost:8080/"
    },
    "id": "x0pshbeaTc_Q",
    "outputId": "17efb040-5ecf-4383-ae38-254fda4f07a9"
   },
   "outputs": [
    {
     "data": {
      "text/plain": [
       "(100, 200704)"
      ]
     },
     "execution_count": 17,
     "metadata": {
      "tags": []
     },
     "output_type": "execute_result"
    }
   ],
   "source": [
    "nsamples, nx, ny, nz = features_test.shape\n",
    "features_test_2d = features_test.reshape((nsamples,nx*ny*nz))\n",
    "features_test_2d.shape"
   ]
  },
  {
   "cell_type": "code",
   "execution_count": 18,
   "metadata": {
    "id": "UhNs-wb7t0Wg"
   },
   "outputs": [],
   "source": [
    "pred = svm_1.predict(features_test_2d)"
   ]
  },
  {
   "cell_type": "code",
   "execution_count": 19,
   "metadata": {
    "colab": {
     "base_uri": "https://localhost:8080/"
    },
    "id": "3PVMELWUt9Sz",
    "outputId": "bf8dbdbf-3584-4b12-93f0-c59cff6fae09"
   },
   "outputs": [
    {
     "data": {
      "text/plain": [
       "array(['planes', 'cars', 'cars', 'cars', 'cars', 'cars', 'cars', 'cars',\n",
       "       'cars', 'cars', 'cars', 'cars', 'cars', 'cars', 'cars', 'cars',\n",
       "       'cars', 'cars', 'planes', 'cars', 'planes', 'cars', 'cars', 'cars',\n",
       "       'cars', 'cars', 'cars', 'cars', 'cars', 'cars', 'cars', 'cars',\n",
       "       'planes', 'cars', 'cars', 'cars', 'cars', 'cars', 'cars', 'cars',\n",
       "       'cars', 'cars', 'cars', 'cars', 'cars', 'cars', 'cars', 'cars',\n",
       "       'cars', 'cars', 'planes', 'cars', 'planes', 'planes', 'planes',\n",
       "       'planes', 'planes', 'planes', 'planes', 'planes', 'planes',\n",
       "       'planes', 'planes', 'planes', 'planes', 'planes', 'planes',\n",
       "       'planes', 'planes', 'planes', 'planes', 'planes', 'planes',\n",
       "       'planes', 'planes', 'planes', 'planes', 'planes', 'planes',\n",
       "       'planes', 'planes', 'planes', 'planes', 'planes', 'planes',\n",
       "       'planes', 'planes', 'planes', 'planes', 'planes', 'planes',\n",
       "       'planes', 'planes', 'planes', 'planes', 'planes', 'planes',\n",
       "       'planes', 'planes', 'planes'], dtype='<U32')"
      ]
     },
     "execution_count": 19,
     "metadata": {
      "tags": []
     },
     "output_type": "execute_result"
    }
   ],
   "source": [
    "pred"
   ]
  },
  {
   "cell_type": "code",
   "execution_count": 20,
   "metadata": {
    "colab": {
     "base_uri": "https://localhost:8080/"
    },
    "id": "-i-pwFRfuKyS",
    "outputId": "a038151b-07b9-404f-8183-c70bc2952040"
   },
   "outputs": [
    {
     "data": {
      "text/plain": [
       "0.95"
      ]
     },
     "execution_count": 20,
     "metadata": {
      "tags": []
     },
     "output_type": "execute_result"
    }
   ],
   "source": [
    "acc1_test_svm=accuracy_score(target_true, pred)\n",
    "acc1_test_svm"
   ]
  },
  {
   "cell_type": "code",
   "execution_count": 21,
   "metadata": {
    "colab": {
     "base_uri": "https://localhost:8080/"
    },
    "id": "Fgli9ms9Ig5R",
    "outputId": "e9204cb1-1025-4876-b11e-423670b0486a"
   },
   "outputs": [
    {
     "data": {
      "text/plain": [
       "0.92"
      ]
     },
     "execution_count": 21,
     "metadata": {
      "tags": []
     },
     "output_type": "execute_result"
    }
   ],
   "source": [
    "pred = lr_1.predict(features_test_2d)\n",
    "\n",
    "acc1_test_lr=accuracy_score(target_true, pred)\n",
    "acc1_test_lr"
   ]
  },
  {
   "cell_type": "markdown",
   "metadata": {
    "id": "iWaJfL10W6xB"
   },
   "source": [
    "**Taglio in block5_pool**"
   ]
  },
  {
   "cell_type": "code",
   "execution_count": 22,
   "metadata": {
    "id": "1hPTHbBOW6GH"
   },
   "outputs": [],
   "source": [
    "second_model = VGG16(weights='imagenet', include_top=False) "
   ]
  },
  {
   "cell_type": "code",
   "execution_count": 23,
   "metadata": {
    "colab": {
     "base_uri": "https://localhost:8080/"
    },
    "id": "-_UaKMxGXWxg",
    "outputId": "dbc06f3c-8024-4146-de2d-4dbe8a38c282"
   },
   "outputs": [
    {
     "name": "stdout",
     "output_type": "stream",
     "text": [
      "Model: \"vgg16\"\n",
      "_________________________________________________________________\n",
      "Layer (type)                 Output Shape              Param #   \n",
      "=================================================================\n",
      "input_2 (InputLayer)         [(None, None, None, 3)]   0         \n",
      "_________________________________________________________________\n",
      "block1_conv1 (Conv2D)        (None, None, None, 64)    1792      \n",
      "_________________________________________________________________\n",
      "block1_conv2 (Conv2D)        (None, None, None, 64)    36928     \n",
      "_________________________________________________________________\n",
      "block1_pool (MaxPooling2D)   (None, None, None, 64)    0         \n",
      "_________________________________________________________________\n",
      "block2_conv1 (Conv2D)        (None, None, None, 128)   73856     \n",
      "_________________________________________________________________\n",
      "block2_conv2 (Conv2D)        (None, None, None, 128)   147584    \n",
      "_________________________________________________________________\n",
      "block2_pool (MaxPooling2D)   (None, None, None, 128)   0         \n",
      "_________________________________________________________________\n",
      "block3_conv1 (Conv2D)        (None, None, None, 256)   295168    \n",
      "_________________________________________________________________\n",
      "block3_conv2 (Conv2D)        (None, None, None, 256)   590080    \n",
      "_________________________________________________________________\n",
      "block3_conv3 (Conv2D)        (None, None, None, 256)   590080    \n",
      "_________________________________________________________________\n",
      "block3_pool (MaxPooling2D)   (None, None, None, 256)   0         \n",
      "_________________________________________________________________\n",
      "block4_conv1 (Conv2D)        (None, None, None, 512)   1180160   \n",
      "_________________________________________________________________\n",
      "block4_conv2 (Conv2D)        (None, None, None, 512)   2359808   \n",
      "_________________________________________________________________\n",
      "block4_conv3 (Conv2D)        (None, None, None, 512)   2359808   \n",
      "_________________________________________________________________\n",
      "block4_pool (MaxPooling2D)   (None, None, None, 512)   0         \n",
      "_________________________________________________________________\n",
      "block5_conv1 (Conv2D)        (None, None, None, 512)   2359808   \n",
      "_________________________________________________________________\n",
      "block5_conv2 (Conv2D)        (None, None, None, 512)   2359808   \n",
      "_________________________________________________________________\n",
      "block5_conv3 (Conv2D)        (None, None, None, 512)   2359808   \n",
      "_________________________________________________________________\n",
      "block5_pool (MaxPooling2D)   (None, None, None, 512)   0         \n",
      "=================================================================\n",
      "Total params: 14,714,688\n",
      "Trainable params: 14,714,688\n",
      "Non-trainable params: 0\n",
      "_________________________________________________________________\n"
     ]
    }
   ],
   "source": [
    "second_model.summary()"
   ]
  },
  {
   "cell_type": "code",
   "execution_count": 24,
   "metadata": {
    "colab": {
     "base_uri": "https://localhost:8080/"
    },
    "id": "Vben7pZXXLYh",
    "outputId": "be271215-4119-4d42-f3f2-837674d66f23"
   },
   "outputs": [
    {
     "name": "stdout",
     "output_type": "stream",
     "text": [
      "(400, 7, 7, 512)\n"
     ]
    }
   ],
   "source": [
    "features = second_model.predict(immagini_definitive_training)\n",
    "\n",
    "print(features.shape)"
   ]
  },
  {
   "cell_type": "code",
   "execution_count": 25,
   "metadata": {
    "colab": {
     "base_uri": "https://localhost:8080/"
    },
    "id": "4NEGkIeXZ3Oc",
    "outputId": "8414ef1f-b8eb-4134-8e8f-2079eebff824"
   },
   "outputs": [
    {
     "data": {
      "text/plain": [
       "(400, 25088)"
      ]
     },
     "execution_count": 25,
     "metadata": {
      "tags": []
     },
     "output_type": "execute_result"
    }
   ],
   "source": [
    "nsamples, nx, ny, nz = features.shape\n",
    "features_2d = features.reshape((nsamples,nx*ny*nz))\n",
    "features_2d.shape"
   ]
  },
  {
   "cell_type": "markdown",
   "metadata": {
    "id": "TRL0n8IbzFqd"
   },
   "source": [
    "Train"
   ]
  },
  {
   "cell_type": "code",
   "execution_count": 26,
   "metadata": {
    "id": "Wsd0ROPKZ9ba"
   },
   "outputs": [],
   "source": [
    "svm_2 = svm.SVC(kernel='linear', C=0.001).fit(features_2d, target)"
   ]
  },
  {
   "cell_type": "code",
   "execution_count": 27,
   "metadata": {
    "colab": {
     "base_uri": "https://localhost:8080/"
    },
    "id": "aMFWoL-fQsRz",
    "outputId": "f222af02-a849-4c0b-b1b1-04adef71ab5f"
   },
   "outputs": [
    {
     "data": {
      "text/plain": [
       "1.0"
      ]
     },
     "execution_count": 27,
     "metadata": {
      "tags": []
     },
     "output_type": "execute_result"
    }
   ],
   "source": [
    "pred_training = svm_2.predict(features_2d)\n",
    "\n",
    "acc2_training_svm=accuracy_score(target, pred_training)\n",
    "acc2_training_svm"
   ]
  },
  {
   "cell_type": "code",
   "execution_count": 28,
   "metadata": {
    "colab": {
     "base_uri": "https://localhost:8080/"
    },
    "id": "AzPBkUUGJhbE",
    "outputId": "254ec5d4-0ba6-494e-bcee-9cb9db1715c3"
   },
   "outputs": [
    {
     "data": {
      "text/plain": [
       "1.0"
      ]
     },
     "execution_count": 28,
     "metadata": {
      "tags": []
     },
     "output_type": "execute_result"
    }
   ],
   "source": [
    "lr_2 = LogisticRegression(C=0.001).fit(features_2d, target)\n",
    "pred = lr_2.predict(features_2d)\n",
    "\n",
    "acc2_training_lr=accuracy_score(target, pred)\n",
    "acc2_training_lr"
   ]
  },
  {
   "cell_type": "markdown",
   "metadata": {
    "id": "niQg0RNJzIJ5"
   },
   "source": [
    "Test"
   ]
  },
  {
   "cell_type": "code",
   "execution_count": 29,
   "metadata": {
    "colab": {
     "base_uri": "https://localhost:8080/"
    },
    "id": "xhNL0PEJaJMF",
    "outputId": "8a7d7881-3a1f-49b5-8d48-a3329e60995a"
   },
   "outputs": [
    {
     "data": {
      "text/plain": [
       "(100, 7, 7, 512)"
      ]
     },
     "execution_count": 29,
     "metadata": {
      "tags": []
     },
     "output_type": "execute_result"
    }
   ],
   "source": [
    "features_test = second_model.predict(immagini_definitive_test)\n",
    "\n",
    "features_test.shape"
   ]
  },
  {
   "cell_type": "code",
   "execution_count": 30,
   "metadata": {
    "colab": {
     "base_uri": "https://localhost:8080/"
    },
    "id": "-8NqI9fUaM1d",
    "outputId": "983b0934-584f-4bf4-cc1a-b14c2606de27"
   },
   "outputs": [
    {
     "data": {
      "text/plain": [
       "(100, 25088)"
      ]
     },
     "execution_count": 30,
     "metadata": {
      "tags": []
     },
     "output_type": "execute_result"
    }
   ],
   "source": [
    "nsamples, nx, ny, nz = features_test.shape\n",
    "features_test_2d = features_test.reshape((nsamples,nx*ny*nz))\n",
    "features_test_2d.shape"
   ]
  },
  {
   "cell_type": "code",
   "execution_count": 31,
   "metadata": {
    "id": "OMmeIhbQaOCT"
   },
   "outputs": [],
   "source": [
    "pred = svm_2.predict(features_test_2d)"
   ]
  },
  {
   "cell_type": "code",
   "execution_count": 32,
   "metadata": {
    "colab": {
     "base_uri": "https://localhost:8080/"
    },
    "id": "HsX51mZ_aSjG",
    "outputId": "b8be0693-36db-4654-8af3-a857f40b0bf9"
   },
   "outputs": [
    {
     "data": {
      "text/plain": [
       "0.99"
      ]
     },
     "execution_count": 32,
     "metadata": {
      "tags": []
     },
     "output_type": "execute_result"
    }
   ],
   "source": [
    "acc2_test_svm=accuracy_score(target_true, pred)\n",
    "acc2_test_svm"
   ]
  },
  {
   "cell_type": "code",
   "execution_count": 33,
   "metadata": {
    "colab": {
     "base_uri": "https://localhost:8080/"
    },
    "id": "ncNZoBmPJmFS",
    "outputId": "f79182af-da5f-409b-e827-00e8f0ef38c3"
   },
   "outputs": [
    {
     "data": {
      "text/plain": [
       "0.98"
      ]
     },
     "execution_count": 33,
     "metadata": {
      "tags": []
     },
     "output_type": "execute_result"
    }
   ],
   "source": [
    "pred = lr_2.predict(features_test_2d)\n",
    "\n",
    "acc2_test_lr=accuracy_score(target_true, pred)\n",
    "acc2_test_lr"
   ]
  },
  {
   "cell_type": "markdown",
   "metadata": {
    "id": "en6FqmRMew_E"
   },
   "source": [
    "**Taglio nel FC1**"
   ]
  },
  {
   "cell_type": "code",
   "execution_count": 34,
   "metadata": {
    "id": "c0Ems9gYewiU"
   },
   "outputs": [],
   "source": [
    "model = VGG16(weights='imagenet') "
   ]
  },
  {
   "cell_type": "code",
   "execution_count": 35,
   "metadata": {
    "colab": {
     "base_uri": "https://localhost:8080/"
    },
    "id": "pA0xw8-oe7Pr",
    "outputId": "9a6a2a81-7798-462d-a367-8889f8ba6d71"
   },
   "outputs": [
    {
     "name": "stdout",
     "output_type": "stream",
     "text": [
      "Model: \"model_1\"\n",
      "_________________________________________________________________\n",
      "Layer (type)                 Output Shape              Param #   \n",
      "=================================================================\n",
      "input_3 (InputLayer)         [(None, 224, 224, 3)]     0         \n",
      "_________________________________________________________________\n",
      "block1_conv1 (Conv2D)        (None, 224, 224, 64)      1792      \n",
      "_________________________________________________________________\n",
      "block1_conv2 (Conv2D)        (None, 224, 224, 64)      36928     \n",
      "_________________________________________________________________\n",
      "block1_pool (MaxPooling2D)   (None, 112, 112, 64)      0         \n",
      "_________________________________________________________________\n",
      "block2_conv1 (Conv2D)        (None, 112, 112, 128)     73856     \n",
      "_________________________________________________________________\n",
      "block2_conv2 (Conv2D)        (None, 112, 112, 128)     147584    \n",
      "_________________________________________________________________\n",
      "block2_pool (MaxPooling2D)   (None, 56, 56, 128)       0         \n",
      "_________________________________________________________________\n",
      "block3_conv1 (Conv2D)        (None, 56, 56, 256)       295168    \n",
      "_________________________________________________________________\n",
      "block3_conv2 (Conv2D)        (None, 56, 56, 256)       590080    \n",
      "_________________________________________________________________\n",
      "block3_conv3 (Conv2D)        (None, 56, 56, 256)       590080    \n",
      "_________________________________________________________________\n",
      "block3_pool (MaxPooling2D)   (None, 28, 28, 256)       0         \n",
      "_________________________________________________________________\n",
      "block4_conv1 (Conv2D)        (None, 28, 28, 512)       1180160   \n",
      "_________________________________________________________________\n",
      "block4_conv2 (Conv2D)        (None, 28, 28, 512)       2359808   \n",
      "_________________________________________________________________\n",
      "block4_conv3 (Conv2D)        (None, 28, 28, 512)       2359808   \n",
      "_________________________________________________________________\n",
      "block4_pool (MaxPooling2D)   (None, 14, 14, 512)       0         \n",
      "_________________________________________________________________\n",
      "block5_conv1 (Conv2D)        (None, 14, 14, 512)       2359808   \n",
      "_________________________________________________________________\n",
      "block5_conv2 (Conv2D)        (None, 14, 14, 512)       2359808   \n",
      "_________________________________________________________________\n",
      "block5_conv3 (Conv2D)        (None, 14, 14, 512)       2359808   \n",
      "_________________________________________________________________\n",
      "block5_pool (MaxPooling2D)   (None, 7, 7, 512)         0         \n",
      "_________________________________________________________________\n",
      "flatten (Flatten)            (None, 25088)             0         \n",
      "_________________________________________________________________\n",
      "fc1 (Dense)                  (None, 4096)              102764544 \n",
      "=================================================================\n",
      "Total params: 117,479,232\n",
      "Trainable params: 117,479,232\n",
      "Non-trainable params: 0\n",
      "_________________________________________________________________\n"
     ]
    }
   ],
   "source": [
    "third_model = Model(inputs=model.input, outputs=model.get_layer('fc1').output)\n",
    "third_model.summary()"
   ]
  },
  {
   "cell_type": "code",
   "execution_count": 36,
   "metadata": {
    "colab": {
     "base_uri": "https://localhost:8080/"
    },
    "id": "-Te5VwOMfJ18",
    "outputId": "9b7537b6-71d4-4ed5-fec2-e7bcb51e4fcf"
   },
   "outputs": [
    {
     "name": "stdout",
     "output_type": "stream",
     "text": [
      "(400, 4096)\n"
     ]
    }
   ],
   "source": [
    "features = third_model.predict(immagini_definitive_training)\n",
    "\n",
    "print(features.shape)"
   ]
  },
  {
   "cell_type": "markdown",
   "metadata": {
    "id": "m7f--l5vzLCg"
   },
   "source": [
    "Train"
   ]
  },
  {
   "cell_type": "code",
   "execution_count": 37,
   "metadata": {
    "id": "29oJ3QScf9sb"
   },
   "outputs": [],
   "source": [
    "svm_3 = svm.SVC(kernel='linear', C=0.001).fit(features, target)"
   ]
  },
  {
   "cell_type": "code",
   "execution_count": 38,
   "metadata": {
    "colab": {
     "base_uri": "https://localhost:8080/"
    },
    "id": "Yhy_BswZQWsl",
    "outputId": "8987811b-f971-457a-939c-fafcffa267be"
   },
   "outputs": [
    {
     "data": {
      "text/plain": [
       "1.0"
      ]
     },
     "execution_count": 38,
     "metadata": {
      "tags": []
     },
     "output_type": "execute_result"
    }
   ],
   "source": [
    "pred = svm_3.predict(features)\n",
    "\n",
    "acc3_training_svm=accuracy_score(target, pred)\n",
    "acc3_training_svm"
   ]
  },
  {
   "cell_type": "code",
   "execution_count": 39,
   "metadata": {
    "colab": {
     "base_uri": "https://localhost:8080/"
    },
    "id": "Om9BkBI8LVK8",
    "outputId": "65826a7d-9d78-45c8-8f6b-a84d900be826"
   },
   "outputs": [
    {
     "data": {
      "text/plain": [
       "1.0"
      ]
     },
     "execution_count": 39,
     "metadata": {
      "tags": []
     },
     "output_type": "execute_result"
    }
   ],
   "source": [
    "lr_3 = LogisticRegression(C=0.001).fit(features, target)\n",
    "pred = lr_3.predict(features)\n",
    "\n",
    "acc3_training_lr=accuracy_score(target, pred)\n",
    "acc3_training_lr"
   ]
  },
  {
   "cell_type": "markdown",
   "metadata": {
    "id": "RQTIpibVzOc3"
   },
   "source": [
    "Test"
   ]
  },
  {
   "cell_type": "code",
   "execution_count": 40,
   "metadata": {
    "colab": {
     "base_uri": "https://localhost:8080/"
    },
    "id": "yN2JaLE5gAPc",
    "outputId": "25da318c-cb53-42c1-d07e-fd97b70fc210"
   },
   "outputs": [
    {
     "data": {
      "text/plain": [
       "(100, 4096)"
      ]
     },
     "execution_count": 40,
     "metadata": {
      "tags": []
     },
     "output_type": "execute_result"
    }
   ],
   "source": [
    "features_test = third_model.predict(immagini_definitive_test)\n",
    "\n",
    "features_test.shape"
   ]
  },
  {
   "cell_type": "code",
   "execution_count": 41,
   "metadata": {
    "id": "-1iAPu6bf1nU"
   },
   "outputs": [],
   "source": [
    "pred = svm_3.predict(features_test)"
   ]
  },
  {
   "cell_type": "code",
   "execution_count": 42,
   "metadata": {
    "colab": {
     "base_uri": "https://localhost:8080/"
    },
    "id": "cgt9ag9HgCnl",
    "outputId": "2d462593-2eac-4087-f2e2-1f05505fe18b"
   },
   "outputs": [
    {
     "data": {
      "text/plain": [
       "1.0"
      ]
     },
     "execution_count": 42,
     "metadata": {
      "tags": []
     },
     "output_type": "execute_result"
    }
   ],
   "source": [
    "acc3_test_svm=accuracy_score(target_true, pred)\n",
    "acc3_test_svm"
   ]
  },
  {
   "cell_type": "code",
   "execution_count": 43,
   "metadata": {
    "colab": {
     "base_uri": "https://localhost:8080/"
    },
    "id": "gkST8KKOLtI_",
    "outputId": "d02fad03-4288-4f73-d75e-3837ee43fe07"
   },
   "outputs": [
    {
     "data": {
      "text/plain": [
       "1.0"
      ]
     },
     "execution_count": 43,
     "metadata": {
      "tags": []
     },
     "output_type": "execute_result"
    }
   ],
   "source": [
    "pred = lr_3.predict(features_test)\n",
    "\n",
    "acc3_test_lr=accuracy_score(target_true, pred)\n",
    "acc3_test_lr"
   ]
  },
  {
   "cell_type": "markdown",
   "metadata": {
    "id": "qQ2PCUmOzYNm"
   },
   "source": [
    "Plot"
   ]
  },
  {
   "cell_type": "code",
   "execution_count": 50,
   "metadata": {
    "colab": {
     "base_uri": "https://localhost:8080/",
     "height": 300
    },
    "id": "14fVFMJuvm-6",
    "outputId": "4cbe5d97-ccde-403b-b08c-4cab21470d45"
   },
   "outputs": [
    {
     "data": {
      "text/plain": [
       "<matplotlib.legend.Legend at 0x7fa9f8af0630>"
      ]
     },
     "execution_count": 50,
     "metadata": {
      "tags": []
     },
     "output_type": "execute_result"
    },
    {
     "data": {
      "image/png": "[encoded data removed]",
      "text/plain": [
       "<Figure size 432x288 with 1 Axes>"
      ]
     },
     "metadata": {
      "needs_background": "light",
      "tags": []
     },
     "output_type": "display_data"
    }
   ],
   "source": [
    "from matplotlib import pyplot as plt\n",
    "\n",
    "ris_training=[acc1_training_svm, acc2_training_svm, acc3_training_svm]\n",
    "ris_test=[acc1_test_svm, acc2_test_svm, acc3_test_svm]\n",
    "x=[\"block3_pool\",\"block5_pool\",\"fc1\"]\n",
    "plt.plot(x,ris_training, label='Training')\n",
    "plt.plot(x,ris_test, label='Test')\n",
    "plt.title(\"SVM\")\n",
    "plt.ylabel('Accuracy') \n",
    "\n",
    "plt.legend()"
   ]
  },
  {
   "cell_type": "code",
   "execution_count": 51,
   "metadata": {
    "colab": {
     "base_uri": "https://localhost:8080/",
     "height": 300
    },
    "id": "1t_mbjI0T27d",
    "outputId": "cbc551a4-4ff7-481f-de75-a163470eb340"
   },
   "outputs": [
    {
     "data": {
      "text/plain": [
       "<matplotlib.legend.Legend at 0x7fa9f8acf4e0>"
      ]
     },
     "execution_count": 51,
     "metadata": {
      "tags": []
     },
     "output_type": "execute_result"
    },
    {
     "data": {
      "image/png": "[encoded data removed]",
      "text/plain": [
       "<Figure size 432x288 with 1 Axes>"
      ]
     },
     "metadata": {
      "needs_background": "light",
      "tags": []
     },
     "output_type": "display_data"
    }
   ],
   "source": [
    "ris_training=[acc1_training_lr, acc2_training_lr, acc3_training_lr]\n",
    "ris_test=[acc1_test_lr, acc2_test_lr, acc3_test_lr]\n",
    "\n",
    "plt.plot(x,ris_training, label='Training')\n",
    "plt.plot(x,ris_test, label='Test')\n",
    "plt.title(\"LogisticRegression\")\n",
    "plt.ylabel('Accuracy') \n",
    "\n",
    "plt.legend()"
   ]
  }
 ],
 "metadata": {
  "colab": {
   "collapsed_sections": [],
   "name": "assignment4.ipynb",
   "provenance": []
  },
  "kernelspec": {
   "display_name": "Python 3",
   "language": "python",
   "name": "python3"
  },
  "language_info": {
   "codemirror_mode": {
    "name": "ipython",
    "version": 3
   },
   "file_extension": ".py",
   "mimetype": "text/x-python",
   "name": "python",
   "nbconvert_exporter": "python",
   "pygments_lexer": "ipython3",
   "version": "3.7.0"
  }
 },
 "nbformat": 4,
 "nbformat_minor": 1
}
