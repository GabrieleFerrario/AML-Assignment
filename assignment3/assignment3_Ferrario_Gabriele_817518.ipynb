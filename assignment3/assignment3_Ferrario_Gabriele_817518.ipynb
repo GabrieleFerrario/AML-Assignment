{
 "cells": [
  {
   "cell_type": "markdown",
   "metadata": {},
   "source": [
    "# Ferrario Gabriele 817518 Assignment 3 \n",
    "____\n",
    "### Roadmap:\n",
    "- Data Loading and Preparation\n",
    "- Model Definition\n",
    "- Training\n",
    "- Test Evaluation"
   ]
  },
  {
   "cell_type": "code",
   "execution_count": 1,
   "metadata": {},
   "outputs": [],
   "source": [
    "import numpy as np\n",
    "import matplotlib.pyplot as plt\n",
    "\n",
    "from tensorflow import keras \n",
    "from tensorflow.keras import layers"
   ]
  },
  {
   "cell_type": "markdown",
   "metadata": {},
   "source": [
    "#### Data Loading and Preparation"
   ]
  },
  {
   "cell_type": "code",
   "execution_count": 2,
   "metadata": {},
   "outputs": [
    {
     "name": "stdout",
     "output_type": "stream",
     "text": [
      "x_train shape: (60000, 28, 28, 1)\n",
      "60000 train samples\n",
      "10000 test samples\n"
     ]
    }
   ],
   "source": [
    "# Model/data pramaters\n",
    "num_classes= 10\n",
    "input_shape= (28,28,1)\n",
    "\n",
    "# load the data and divide it into train/test split\n",
    "(x_train, y_train), (x_test, y_test) = keras.datasets.mnist.load_data()\n",
    "\n",
    "# Scale images into the [0 1] range\n",
    "x_train = x_train.astype(\"float32\")/255\n",
    "x_test = x_test.astype(\"float32\")/255\n",
    "\n",
    "# Make images with sie (28,28,1)\n",
    "x_train = np.expand_dims(x_train, -1)\n",
    "x_test = np.expand_dims(x_test, -1)\n",
    "print(\"x_train shape:\", x_train.shape)\n",
    "print(x_train.shape[0], \"train samples\")\n",
    "print(x_test.shape[0], \"test samples\")"
   ]
  },
  {
   "cell_type": "code",
   "execution_count": 3,
   "metadata": {},
   "outputs": [],
   "source": [
    "# convert class vectors to binary class matrices\n",
    "y_train = keras.utils.to_categorical(y_train, num_classes)\n",
    "y_test = keras.utils.to_categorical(y_test, num_classes)"
   ]
  },
  {
   "cell_type": "markdown",
   "metadata": {},
   "source": [
    "#### Model definition"
   ]
  },
  {
   "cell_type": "code",
   "execution_count": 4,
   "metadata": {},
   "outputs": [
    {
     "name": "stdout",
     "output_type": "stream",
     "text": [
      "Model: \"sequential\"\n",
      "_________________________________________________________________\n",
      "Layer (type)                 Output Shape              Param #   \n",
      "=================================================================\n",
      "conv2d (Conv2D)              (None, 24, 24, 8)         208       \n",
      "_________________________________________________________________\n",
      "average_pooling2d (AveragePo (None, 12, 12, 8)         0         \n",
      "_________________________________________________________________\n",
      "conv2d_1 (Conv2D)            (None, 8, 8, 16)          3216      \n",
      "_________________________________________________________________\n",
      "average_pooling2d_1 (Average (None, 4, 4, 16)          0         \n",
      "_________________________________________________________________\n",
      "flatten (Flatten)            (None, 256)               0         \n",
      "_________________________________________________________________\n",
      "dense (Dense)                (None, 10)                2570      \n",
      "=================================================================\n",
      "Total params: 5,994\n",
      "Trainable params: 5,994\n",
      "Non-trainable params: 0\n",
      "_________________________________________________________________\n"
     ]
    }
   ],
   "source": [
    "model = keras.Sequential(\n",
    "    [\n",
    "        keras.Input(shape=(input_shape)),\n",
    "        layers.Conv2D(8, kernel_size=(5, 5), activation=\"relu\"),\n",
    "        layers.AveragePooling2D(pool_size=(2, 2)),\n",
    "        layers.Conv2D(16, kernel_size=(5, 5), activation=\"relu\"),\n",
    "        layers.AveragePooling2D(pool_size=(2, 2)),\n",
    "        layers.Flatten(),\n",
    "        layers.Dense(num_classes, activation=\"softmax\"),\n",
    "    ]\n",
    ")\n",
    "\n",
    "model.summary()"
   ]
  },
  {
   "cell_type": "markdown",
   "metadata": {},
   "source": [
    "#### Training"
   ]
  },
  {
   "cell_type": "code",
   "execution_count": 5,
   "metadata": {
    "scrolled": true
   },
   "outputs": [
    {
     "name": "stdout",
     "output_type": "stream",
     "text": [
      "Epoch 1/15\n",
      "3375/3375 [==============================] - 46s 14ms/step - loss: 0.2486 - accuracy: 0.9259 - val_loss: 0.1071 - val_accuracy: 0.9723\n",
      "Epoch 2/15\n",
      "3375/3375 [==============================] - 53s 16ms/step - loss: 0.0979 - accuracy: 0.9702 - val_loss: 0.0719 - val_accuracy: 0.9795\n",
      "Epoch 3/15\n",
      "3375/3375 [==============================] - 44s 13ms/step - loss: 0.0701 - accuracy: 0.9788 - val_loss: 0.0666 - val_accuracy: 0.9832\n",
      "Epoch 4/15\n",
      "3375/3375 [==============================] - 36s 11ms/step - loss: 0.0571 - accuracy: 0.9824 - val_loss: 0.0576 - val_accuracy: 0.9818\n",
      "Epoch 5/15\n",
      "3375/3375 [==============================] - 49s 14ms/step - loss: 0.0483 - accuracy: 0.9851 - val_loss: 0.0520 - val_accuracy: 0.9855\n",
      "Epoch 6/15\n",
      "3375/3375 [==============================] - 55s 16ms/step - loss: 0.0422 - accuracy: 0.9869 - val_loss: 0.0431 - val_accuracy: 0.9883\n",
      "Epoch 7/15\n",
      "3375/3375 [==============================] - 51s 15ms/step - loss: 0.0383 - accuracy: 0.9884 - val_loss: 0.0487 - val_accuracy: 0.9870\n",
      "Epoch 8/15\n",
      "3375/3375 [==============================] - 57s 17ms/step - loss: 0.0338 - accuracy: 0.9894 - val_loss: 0.0461 - val_accuracy: 0.9878\n",
      "Epoch 9/15\n",
      "3375/3375 [==============================] - 50s 15ms/step - loss: 0.0312 - accuracy: 0.9900 - val_loss: 0.0425 - val_accuracy: 0.9890\n",
      "Epoch 10/15\n",
      "3375/3375 [==============================] - 39s 12ms/step - loss: 0.0284 - accuracy: 0.9909 - val_loss: 0.0406 - val_accuracy: 0.9890\n",
      "Epoch 11/15\n",
      "3375/3375 [==============================] - 37s 11ms/step - loss: 0.0260 - accuracy: 0.9915 - val_loss: 0.0382 - val_accuracy: 0.9897\n",
      "Epoch 12/15\n",
      "3375/3375 [==============================] - 36s 11ms/step - loss: 0.0239 - accuracy: 0.9922 - val_loss: 0.0413 - val_accuracy: 0.9895\n",
      "Epoch 13/15\n",
      "3375/3375 [==============================] - 53s 16ms/step - loss: 0.0222 - accuracy: 0.9928 - val_loss: 0.0370 - val_accuracy: 0.9895\n",
      "Epoch 14/15\n",
      "3375/3375 [==============================] - 51s 15ms/step - loss: 0.0214 - accuracy: 0.9933 - val_loss: 0.0436 - val_accuracy: 0.9873\n",
      "Epoch 15/15\n",
      "3375/3375 [==============================] - 43s 13ms/step - loss: 0.0191 - accuracy: 0.9938 - val_loss: 0.0483 - val_accuracy: 0.9867\n"
     ]
    }
   ],
   "source": [
    "batch_size=16\n",
    "epochs=15\n",
    "\n",
    "model.compile(loss=\"categorical_crossentropy\", optimizer=\"adam\", metrics=[\"accuracy\"])\n",
    "history = model.fit(x_train, y_train, batch_size=batch_size, epochs=epochs, validation_split=0.1)"
   ]
  },
  {
   "cell_type": "markdown",
   "metadata": {},
   "source": [
    "#### Test Evaluation"
   ]
  },
  {
   "cell_type": "markdown",
   "metadata": {},
   "source": [
    "Evaluation of the model on the test set"
   ]
  },
  {
   "cell_type": "code",
   "execution_count": 6,
   "metadata": {},
   "outputs": [
    {
     "name": "stdout",
     "output_type": "stream",
     "text": [
      "Test loss: 0.04164024442434311\n",
      "Test accuracy: 0.9876000285148621\n"
     ]
    }
   ],
   "source": [
    "score = model.evaluate(x_test, y_test, verbose=0)\n",
    "print(\"Test loss:\", score[0])\n",
    "print(\"Test accuracy:\", score[1])"
   ]
  },
  {
   "cell_type": "code",
   "execution_count": 7,
   "metadata": {},
   "outputs": [
    {
     "data": {
      "image/png": "[encoded data removed]",
      "text/plain": [
       "<Figure size 432x288 with 1 Axes>"
      ]
     },
     "metadata": {
      "needs_background": "light"
     },
     "output_type": "display_data"
    },
    {
     "data": {
      "image/png": "[encoded data removed]",
      "text/plain": [
       "<Figure size 432x288 with 1 Axes>"
      ]
     },
     "metadata": {
      "needs_background": "light"
     },
     "output_type": "display_data"
    }
   ],
   "source": [
    "# accuracy\n",
    "plt.plot(history.history['accuracy'])\n",
    "plt.plot(history.history['val_accuracy'])\n",
    "plt.title('model accuracy')\n",
    "plt.ylabel('accuracy')\n",
    "plt.xlabel('epoch')\n",
    "plt.legend(['train', 'validation'], loc='upper left')\n",
    "plt.show()\n",
    "# loss\n",
    "plt.plot(history.history['loss'])\n",
    "plt.plot(history.history['val_loss'])\n",
    "plt.title('model loss')\n",
    "plt.ylabel('loss')\n",
    "plt.xlabel('epoch')\n",
    "plt.legend(['train', 'validation'], loc='upper left')\n",
    "plt.show()"
   ]
  }
 ],
 "metadata": {
  "kernelspec": {
   "display_name": "Python 3",
   "language": "python",
   "name": "python3"
  },
  "language_info": {
   "codemirror_mode": {
    "name": "ipython",
    "version": 3
   },
   "file_extension": ".py",
   "mimetype": "text/x-python",
   "name": "python",
   "nbconvert_exporter": "python",
   "pygments_lexer": "ipython3",
   "version": "3.7.0"
  }
 },
 "nbformat": 4,
 "nbformat_minor": 4
}
